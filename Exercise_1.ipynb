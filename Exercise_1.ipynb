{
  "nbformat": 4,
  "nbformat_minor": 0,
  "metadata": {
    "kernelspec": {
      "display_name": "Python 3",
      "language": "python",
      "name": "python3"
    },
    "language_info": {
      "codemirror_mode": {
        "name": "ipython",
        "version": 3
      },
      "file_extension": ".py",
      "mimetype": "text/x-python",
      "name": "python",
      "nbconvert_exporter": "python",
      "pygments_lexer": "ipython3",
      "version": "3.6.5"
    },
    "colab": {
      "name": "Exercise_1.ipynb",
      "provenance": [],
      "include_colab_link": true
    }
  },
  "cells": [
    {
      "cell_type": "markdown",
      "metadata": {
        "id": "view-in-github",
        "colab_type": "text"
      },
      "source": [
        "<a href=\"https://colab.research.google.com/github/tntnation/iads_summer/blob/main/Exercise_1.ipynb\" target=\"_parent\"><img src=\"https://colab.research.google.com/assets/colab-badge.svg\" alt=\"Open In Colab\"/></a>"
      ]
    },
    {
      "cell_type": "markdown",
      "metadata": {
        "id": "z_tpcCWXzIPi"
      },
      "source": [
        "# Introduction to Colab and Python\n",
        "\n",
        "Welcome to this Colab where you will get a quick introduction to the Python programming language and the environment used for the course's exercises: Colab.\n",
        "\n",
        "Colab is a Python development environment that runs in the browser using Google Cloud. For example, to print \"Hello World\", just hover the mouse over [ ] and press the play button to the upper left. Or press shift-enter to execute."
      ]
    },
    {
      "cell_type": "code",
      "metadata": {
        "id": "LttV7chp_0nh",
        "outputId": "a822d862-3609-4ff9-f762-4096af22c246",
        "colab": {
          "base_uri": "https://localhost:8080/"
        }
      },
      "source": [
        "print ('Welcome')"
      ],
      "execution_count": 3,
      "outputs": [
        {
          "output_type": "stream",
          "text": [
            "Welcome\n"
          ],
          "name": "stdout"
        }
      ]
    },
    {
      "cell_type": "markdown",
      "metadata": {
        "id": "kAlFGERdBU2-"
      },
      "source": [
        "##IADS summer school\n",
        "###hello everyone\n",
        "####Hi\n"
      ]
    },
    {
      "cell_type": "code",
      "metadata": {
        "id": "WWshkeimzcCf"
      },
      "source": [
        "print(\"Hello World\")"
      ],
      "execution_count": null,
      "outputs": []
    },
    {
      "cell_type": "markdown",
      "metadata": {
        "id": "08L0_Z3Pzqcm"
      },
      "source": [
        "## Features of Google Colab\n",
        "\n",
        "*   Write and execute code in Python\n",
        "*   Document the code which supports the mathematical equations\n",
        "*   Create new notebooks\n",
        "*   Upload the existing notebooks\n",
        "*   Share the notebooks with the google link\n",
        "*   Import data from Google Drive\n",
        "*   Save notebooks from/to Google Drive\n",
        "*   Import/Publish notebooks from GitHub\n",
        "*   Import external datasets e.g. from Kaggle\n",
        "*   Integrate PyTorch, TensorFlow, Keras, OpenCV\n",
        "*   Free Cloud service with free GPU and TPU\n",
        "\n",
        "Please see this medium blog on [An Introduction to Google Colab (Python)](https://medium.com/@sagihaider/benefits-of-using-google-colab-python-8f246c91bc52)"
      ]
    },
    {
      "cell_type": "markdown",
      "metadata": {
        "id": "om4T7XV70rI7"
      },
      "source": [
        "## What is Python?\n",
        "Python is a popular programming language. It was created by Guido van Rossum, and released in 1991.\n",
        "\n",
        "It is used for:\n",
        "*   web development (server-side),\n",
        "*   software development,\n",
        "*   mathematics,\n",
        "*   system scripting.\n",
        "\n",
        "## What can Python do?\n",
        "*   Python can be used for web development application.\n",
        "*   Python can be used alongside software to create workflows.\n",
        "*   Python can connect to database systems. It can also read and modify files.\n",
        "*   Python can be used to handle big data and perform complex mathematics.\n",
        "*   Python can be used for rapid prototyping, or for production-ready software development.\n",
        "\n",
        "\n",
        "## Why Python?\n",
        "*   Python works on different platforms (Windows, Mac, Linux, Raspberry Pi, etc).\n",
        "*   Python has a simple syntax similar to the English language.\n",
        "*   Python has syntax that allows developers to write programs with fewer lines than some other programming languages.\n",
        "*   Python runs on an interpreter system, meaning that code can be executed as soon as it is written. This means that prototyping can be very quick.\n",
        "*   Python can be treated in a procedural way, an object-oriented way or a functional way.\n",
        "\n",
        "\n",
        "\n"
      ]
    },
    {
      "cell_type": "markdown",
      "metadata": {
        "id": "zWvjvrbI2NtF"
      },
      "source": [
        "### Let's see our first code"
      ]
    },
    {
      "cell_type": "code",
      "metadata": {
        "id": "c0NrIg1D2RnZ",
        "colab": {
          "base_uri": "https://localhost:8080/"
        },
        "outputId": "6e9ff562-b228-48e2-b776-e6abdd44d5dd"
      },
      "source": [
        "if 10 > 8:\n",
        "  print(\"Ten is greater than eight!\")"
      ],
      "execution_count": null,
      "outputs": [
        {
          "output_type": "stream",
          "text": [
            "Ten is greater than eight!\n"
          ],
          "name": "stdout"
        }
      ]
    }
  ]
}